{
 "cells": [
  {
   "cell_type": "code",
   "execution_count": 1,
   "id": "asian-termination",
   "metadata": {},
   "outputs": [
    {
     "name": "stdout",
     "output_type": "stream",
     "text": [
      "\u001b[33mDEPRECATION: Python 2.7 will reach the end of its life on January 1st, 2020. Please upgrade your Python as Python 2.7 won't be maintained after that date. A future version of pip will drop support for Python 2.7. More details about Python 2 support in pip, can be found at https://pip.pypa.io/en/latest/development/release-process/#python-2-support\u001b[0m\n",
      "Requirement already satisfied: boto3 in /Library/Frameworks/Python.framework/Versions/2.7/lib/python2.7/site-packages (1.17.24)\n",
      "Requirement already satisfied: botocore<1.21.0,>=1.20.24 in /Library/Frameworks/Python.framework/Versions/2.7/lib/python2.7/site-packages (from boto3) (1.20.24)\n",
      "Requirement already satisfied: jmespath<1.0.0,>=0.7.1 in /Library/Frameworks/Python.framework/Versions/2.7/lib/python2.7/site-packages (from boto3) (0.10.0)\n",
      "Requirement already satisfied: s3transfer<0.4.0,>=0.3.0 in /Library/Frameworks/Python.framework/Versions/2.7/lib/python2.7/site-packages (from boto3) (0.3.4)\n",
      "Requirement already satisfied: python-dateutil<3.0.0,>=2.1 in /Library/Frameworks/Python.framework/Versions/2.7/lib/python2.7/site-packages (from botocore<1.21.0,>=1.20.24->boto3) (2.8.1)\n",
      "Requirement already satisfied: urllib3<1.27,>=1.25.4 in /Library/Frameworks/Python.framework/Versions/2.7/lib/python2.7/site-packages (from botocore<1.21.0,>=1.20.24->boto3) (1.26.3)\n",
      "Requirement already satisfied: futures<4.0.0,>=2.2.0; python_version == \"2.7\" in /Library/Frameworks/Python.framework/Versions/2.7/lib/python2.7/site-packages (from s3transfer<0.4.0,>=0.3.0->boto3) (3.3.0)\n",
      "Requirement already satisfied: six>=1.5 in /Library/Frameworks/Python.framework/Versions/2.7/lib/python2.7/site-packages (from python-dateutil<3.0.0,>=2.1->botocore<1.21.0,>=1.20.24->boto3) (1.15.0)\n",
      "\u001b[33mWARNING: You are using pip version 19.2.3, however version 20.3.4 is available.\n",
      "You should consider upgrading via the 'pip install --upgrade pip' command.\u001b[0m\n"
     ]
    }
   ],
   "source": [
    "!pip install boto3\n",
    "import boto3"
   ]
  },
  {
   "cell_type": "code",
   "execution_count": 31,
   "id": "introductory-nomination",
   "metadata": {},
   "outputs": [],
   "source": [
    "s3 = boto3.resource('s3', \n",
    "\t aws_access_key_id = '',\n",
    "\t aws_secret_access_key = '')"
   ]
  },
  {
   "cell_type": "code",
   "execution_count": 32,
   "id": "quality-holly",
   "metadata": {},
   "outputs": [
    {
     "name": "stdout",
     "output_type": "stream",
     "text": [
      "An error occurred (BucketAlreadyOwnedByYou) when calling the CreateBucket operation: Your previous request to create the named bucket succeeded and you already own it.\n"
     ]
    }
   ],
   "source": [
    "try:s3.create_bucket(Bucket='datacont-mkd43', CreateBucketConfiguration={\n",
    "    'LocationConstraint': 'us-east-2'})\n",
    "except Exception as e:\n",
    "    print (e)"
   ]
  },
  {
   "cell_type": "code",
   "execution_count": 21,
   "id": "fresh-price",
   "metadata": {},
   "outputs": [],
   "source": [
    "bucket =s3.Bucket(\"datacont-mkd43\")"
   ]
  },
  {
   "cell_type": "code",
   "execution_count": 33,
   "id": "animated-animation",
   "metadata": {},
   "outputs": [
    {
     "data": {
      "text/plain": [
       "{'ResponseMetadata': {'RequestId': 'AH3WCF69R0TEHS46',\n",
       "  'HostId': 'eNpx6fR4hAC1I5plQwvHxPu41yl07R/jG1uxLJcjSnVmQVFOk/A3KII1U5xplTxksAR/JGXuvbA=',\n",
       "  'HTTPStatusCode': 200,\n",
       "  'HTTPHeaders': {'x-amz-id-2': 'eNpx6fR4hAC1I5plQwvHxPu41yl07R/jG1uxLJcjSnVmQVFOk/A3KII1U5xplTxksAR/JGXuvbA=',\n",
       "   'x-amz-request-id': 'AH3WCF69R0TEHS46',\n",
       "   'date': 'Mon, 15 Mar 2021 01:52:44 GMT',\n",
       "   'content-length': '0',\n",
       "   'server': 'AmazonS3'},\n",
       "  'RetryAttempts': 0}}"
      ]
     },
     "execution_count": 33,
     "metadata": {},
     "output_type": "execute_result"
    }
   ],
   "source": [
    "bucket.Acl().put(ACL='public-read')"
   ]
  },
  {
   "cell_type": "code",
   "execution_count": 34,
   "id": "front-hawaiian",
   "metadata": {},
   "outputs": [],
   "source": [
    "dyndb =boto3.resource('dynamodb',\n",
    "                      region_name='us-east-2',\n",
    "                      aws_access_key_id='',\n",
    "                      aws_secret_access_key='')"
   ]
  },
  {
   "cell_type": "code",
   "execution_count": 35,
   "id": "parallel-metro",
   "metadata": {},
   "outputs": [],
   "source": [
    "try:\n",
    "    table =dyndb.create_table(\n",
    "        TableName='DataTable',\n",
    "        KeySchema=[\n",
    "            {\n",
    "                'AttributeName': 'PartitionKey',\n",
    "                'KeyType': 'HASH'\n",
    "            },\n",
    "            {\n",
    "                'AttributeName': 'RowKey',\n",
    "                'KeyType': 'RANGE'\n",
    "            }\n",
    "        ],\n",
    "        AttributeDefinitions=[\n",
    "            {\n",
    "                'AttributeName': 'PartitionKey',\n",
    "                'AttributeType': 'S'\n",
    "            },\n",
    "            {\n",
    "                'AttributeName': 'RowKey',\n",
    "                'AttributeType': 'S'\n",
    "            },\n",
    "        ],\n",
    "        ProvisionedThroughput={\n",
    "            'ReadCapacityUnits': 5,\n",
    "            'WriteCapacityUnits': 5\n",
    "        }\n",
    ")\n",
    "except:\n",
    "    #if there is an exception, the table may already exist.   if so...\n",
    "    table =dyndb.Table(\"DataTable\")"
   ]
  },
  {
   "cell_type": "code",
   "execution_count": 36,
   "id": "entitled-agreement",
   "metadata": {},
   "outputs": [],
   "source": [
    "table.meta.client.get_waiter('table_exists').wait(TableName='DataTable')"
   ]
  },
  {
   "cell_type": "code",
   "execution_count": 37,
   "id": "returning-stage",
   "metadata": {},
   "outputs": [
    {
     "name": "stdout",
     "output_type": "stream",
     "text": [
      "2\n"
     ]
    }
   ],
   "source": [
    "print(table.item_count)"
   ]
  },
  {
   "cell_type": "code",
   "execution_count": 38,
   "id": "undefined-medication",
   "metadata": {},
   "outputs": [],
   "source": [
    "import csv"
   ]
  },
  {
   "cell_type": "code",
   "execution_count": 39,
   "id": "tracked-energy",
   "metadata": {},
   "outputs": [
    {
     "name": "stdout",
     "output_type": "stream",
     "text": [
      "['experiment1', 'data1', '2/13/21', 'Words..', 'exp1.csv']\n",
      "['experiment2', 'data2', '2/20/21', 'second experiment', 'exp2.csv']\n"
     ]
    }
   ],
   "source": [
    "with open('/Users/michaeldatz/Desktop/2021-2022/cloudcomputing/hw3/experiments.csv', \"rt\", encoding=\"utf8\") as csvfile: \n",
    "    csvf = csv.reader(csvfile, delimiter=',', quotechar='|')\n",
    "    next(csvf, None)\n",
    "    for item in csvf:\n",
    "        print(item)\n",
    "        body = open('/Users/michaeldatz/Desktop/2021-2022/cloudcomputing/hw3/'+item[4], 'rb') \n",
    "        s3.Object('datacont-mkd43', item[4]).put(Body=body)\n",
    "        md = s3.Object('datacont-mkd43', item[4]).Acl().put(ACL='public-read')\n",
    "        url = \"https://s3-us-east-2.amazonaws.com/datacont-mkd43/\"+item[3] \n",
    "        metadata_item = {'PartitionKey': item[0], 'RowKey': item[1],\n",
    "                         'description' : item[4], 'date' : item[2], 'url':url}\n",
    "        try: \n",
    "            table.put_item(Item=metadata_item)\n",
    "        except:\n",
    "            print(\"item may already be there or another failure\")"
   ]
  },
  {
   "cell_type": "code",
   "execution_count": 40,
   "id": "median-alexander",
   "metadata": {},
   "outputs": [
    {
     "name": "stdout",
     "output_type": "stream",
     "text": [
      "{'PartitionKey': 'experiment2', 'RowKey': 'data2', 'date': '2/20/21', 'description': 'exp2.csv', 'url': 'https://s3-us-east-2.amazonaws.com/datacont-mkd43/second experiment'}\n"
     ]
    }
   ],
   "source": [
    "response = table.get_item( \n",
    "\tKey={\n",
    "\t\t'PartitionKey': 'experiment2',\n",
    "\t\t'RowKey': 'data2' \n",
    "\t}\n",
    ")\n",
    "item = response['Item'] \n",
    "print(item)"
   ]
  },
  {
   "cell_type": "code",
   "execution_count": null,
   "id": "passing-leonard",
   "metadata": {},
   "outputs": [],
   "source": [
    "response"
   ]
  },
  {
   "cell_type": "code",
   "execution_count": null,
   "id": "competent-coordinator",
   "metadata": {},
   "outputs": [],
   "source": []
  }
 ],
 "metadata": {
  "kernelspec": {
   "display_name": "Python 3",
   "language": "python",
   "name": "python3"
  },
  "language_info": {
   "codemirror_mode": {
    "name": "ipython",
    "version": 3
   },
   "file_extension": ".py",
   "mimetype": "text/x-python",
   "name": "python",
   "nbconvert_exporter": "python",
   "pygments_lexer": "ipython3",
   "version": "3.8.8"
  }
 },
 "nbformat": 4,
 "nbformat_minor": 5
}
