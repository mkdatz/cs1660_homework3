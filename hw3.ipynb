{
 "cells": [
  {
   "cell_type": "code",
   "execution_count": 33,
   "id": "miniature-girlfriend",
   "metadata": {},
   "outputs": [
    {
     "name": "stdout",
     "output_type": "stream",
     "text": [
      "\u001b[33mDEPRECATION: Python 2.7 will reach the end of its life on January 1st, 2020. Please upgrade your Python as Python 2.7 won't be maintained after that date. A future version of pip will drop support for Python 2.7. More details about Python 2 support in pip, can be found at https://pip.pypa.io/en/latest/development/release-process/#python-2-support\u001b[0m\n",
      "Requirement already satisfied: boto3 in /Library/Frameworks/Python.framework/Versions/2.7/lib/python2.7/site-packages (1.17.24)\n",
      "Requirement already satisfied: botocore<1.21.0,>=1.20.24 in /Library/Frameworks/Python.framework/Versions/2.7/lib/python2.7/site-packages (from boto3) (1.20.24)\n",
      "Requirement already satisfied: jmespath<1.0.0,>=0.7.1 in /Library/Frameworks/Python.framework/Versions/2.7/lib/python2.7/site-packages (from boto3) (0.10.0)\n",
      "Requirement already satisfied: s3transfer<0.4.0,>=0.3.0 in /Library/Frameworks/Python.framework/Versions/2.7/lib/python2.7/site-packages (from boto3) (0.3.4)\n",
      "Requirement already satisfied: python-dateutil<3.0.0,>=2.1 in /Library/Frameworks/Python.framework/Versions/2.7/lib/python2.7/site-packages (from botocore<1.21.0,>=1.20.24->boto3) (2.8.1)\n",
      "Requirement already satisfied: urllib3<1.27,>=1.25.4 in /Library/Frameworks/Python.framework/Versions/2.7/lib/python2.7/site-packages (from botocore<1.21.0,>=1.20.24->boto3) (1.26.3)\n",
      "Requirement already satisfied: futures<4.0.0,>=2.2.0; python_version == \"2.7\" in /Library/Frameworks/Python.framework/Versions/2.7/lib/python2.7/site-packages (from s3transfer<0.4.0,>=0.3.0->boto3) (3.3.0)\n",
      "Requirement already satisfied: six>=1.5 in /Library/Frameworks/Python.framework/Versions/2.7/lib/python2.7/site-packages (from python-dateutil<3.0.0,>=2.1->botocore<1.21.0,>=1.20.24->boto3) (1.15.0)\n",
      "\u001b[33mWARNING: You are using pip version 19.2.3, however version 20.3.4 is available.\n",
      "You should consider upgrading via the 'pip install --upgrade pip' command.\u001b[0m\n"
     ]
    }
   ],
   "source": [
    "!pip install boto3\n",
    "import boto3"
   ]
  },
  {
   "cell_type": "code",
   "execution_count": 34,
   "id": "indian-mathematics",
   "metadata": {},
   "outputs": [],
   "source": [
    "s3 = boto3.resource('s3', \n",
    "\t aws_access_key_id = '',\n",
    "\t aws_secret_access_key = '')"
   ]
  },
  {
   "cell_type": "code",
   "execution_count": 45,
   "id": "oriental-affect",
   "metadata": {},
   "outputs": [],
   "source": [
    "try:s3.create_bucket(Bucket='datacont-datz', CreateBucketConfiguration={\n",
    "    'LocationConstraint': 'us-west-2'})\n",
    "except Exception as e:\n",
    "    print (e)"
   ]
  },
  {
   "cell_type": "code",
   "execution_count": 46,
   "id": "scenic-quick",
   "metadata": {},
   "outputs": [],
   "source": [
    "bucket =s3.Bucket(\"datacont-datz\")"
   ]
  },
  {
   "cell_type": "code",
   "execution_count": 47,
   "id": "coral-halifax",
   "metadata": {},
   "outputs": [
    {
     "data": {
      "text/plain": [
       "{'ResponseMetadata': {'RequestId': '7ZXQDAQB15HYV4V6',\n",
       "  'HostId': 'hVaAPB+1hFCPWkLP8OABBegKg1FhIbW00pokHBI1obRRhc5aO7NQew1In6VkmyUIC+rtzKD0SyA=',\n",
       "  'HTTPStatusCode': 200,\n",
       "  'HTTPHeaders': {'x-amz-id-2': 'hVaAPB+1hFCPWkLP8OABBegKg1FhIbW00pokHBI1obRRhc5aO7NQew1In6VkmyUIC+rtzKD0SyA=',\n",
       "   'x-amz-request-id': '7ZXQDAQB15HYV4V6',\n",
       "   'date': 'Tue, 09 Mar 2021 22:09:27 GMT',\n",
       "   'content-length': '0',\n",
       "   'server': 'AmazonS3'},\n",
       "  'RetryAttempts': 1}}"
      ]
     },
     "execution_count": 47,
     "metadata": {},
     "output_type": "execute_result"
    }
   ],
   "source": [
    "bucket.Acl().put(ACL='public-read')"
   ]
  },
  {
   "cell_type": "code",
   "execution_count": 48,
   "id": "monetary-sullivan",
   "metadata": {},
   "outputs": [],
   "source": [
    "dyndb =boto3.resource('dynamodb',\n",
    "                      region_name='us-east-2',\n",
    "                      aws_access_key_id='',\n",
    "                      aws_secret_access_key='')"
   ]
  },
  {
   "cell_type": "code",
   "execution_count": 49,
   "id": "occupied-parameter",
   "metadata": {},
   "outputs": [],
   "source": [
    "try:\n",
    "    table =dyndb.create_table(\n",
    "        TableName='DataTable',\n",
    "        KeySchema=[\n",
    "            {\n",
    "                'AttributeName': 'PartitionKey',\n",
    "                'KeyType': 'HASH'\n",
    "            },\n",
    "            {\n",
    "                'AttributeName': 'RowKey',\n",
    "                'KeyType': 'RANGE'\n",
    "            }\n",
    "        ],\n",
    "        AttributeDefinitions=[\n",
    "            {\n",
    "                'AttributeName': 'PartitionKey',\n",
    "                'AttributeType': 'S'\n",
    "            },\n",
    "            {\n",
    "                'AttributeName': 'RowKey',\n",
    "                'AttributeType': 'S'\n",
    "            },\n",
    "        ],\n",
    "        ProvisionedThroughput={\n",
    "            'ReadCapacityUnits': 5,\n",
    "            'WriteCapacityUnits': 5\n",
    "        }\n",
    ")\n",
    "except:\n",
    "    #if there is an exception, the table may already exist.   if so...\n",
    "    table =dyndb.Table(\"DataTable\")"
   ]
  },
  {
   "cell_type": "code",
   "execution_count": 50,
   "id": "organic-aerospace",
   "metadata": {},
   "outputs": [],
   "source": [
    "table.meta.client.get_waiter('table_exists').wait(TableName='DataTable')"
   ]
  },
  {
   "cell_type": "code",
   "execution_count": 51,
   "id": "intense-bidder",
   "metadata": {},
   "outputs": [
    {
     "name": "stdout",
     "output_type": "stream",
     "text": [
      "0\n"
     ]
    }
   ],
   "source": [
    "print(table.item_count)"
   ]
  },
  {
   "cell_type": "code",
   "execution_count": 52,
   "id": "solid-tourism",
   "metadata": {},
   "outputs": [],
   "source": [
    "import csv"
   ]
  },
  {
   "cell_type": "code",
   "execution_count": 56,
   "id": "economic-fence",
   "metadata": {},
   "outputs": [
    {
     "name": "stdout",
     "output_type": "stream",
     "text": [
      "['experiment1', 'data1', '2/13/21', 'Words..', 'exp1.csv']\n",
      "['experiment2', 'data2', '2/20/21', 'second experiment', 'exp2.csv']\n"
     ]
    }
   ],
   "source": [
    "with open('/Users/michaeldatz/Desktop/2021-2022/cloudcomputing/hw3/experiments.csv', \"rt\", encoding=\"utf8\") as csvfile: \n",
    "    csvf = csv.reader(csvfile, delimiter=',', quotechar='|')\n",
    "    next(csvf, None)\n",
    "    for item in csvf:\n",
    "        print(item)\n",
    "        body = open('/Users/michaeldatz/Desktop/2021-2022/cloudcomputing/hw3/'+item[4], 'rb') \n",
    "        s3.Object('datacont-datz', item[4]).put(Body=body)\n",
    "        md = s3.Object('datacont-datz', item[4]).Acl().put(ACL='public-read')\n",
    "        url = \"https://s3-us-east-2.amazonaws.com/datacont-datz/\"+item[3] \n",
    "        metadata_item = {'PartitionKey': item[0], 'RowKey': item[1],\n",
    "                         'description' : item[4], 'date' : item[2], 'url':url}\n",
    "        try: \n",
    "            table.put_item(Item=metadata_item)\n",
    "        except:\n",
    "            print(\"item may already be there or another failure\")"
   ]
  },
  {
   "cell_type": "code",
   "execution_count": 60,
   "id": "ranking-pacific",
   "metadata": {},
   "outputs": [
    {
     "name": "stdout",
     "output_type": "stream",
     "text": [
      "{'PartitionKey': 'experiment2', 'RowKey': 'data2', 'date': '2/20/21', 'description': 'exp2.csv', 'url': 'https://s3-us-east-2.amazonaws.com/datacont-datz/second experiment'}\n"
     ]
    }
   ],
   "source": [
    "response = table.get_item( \n",
    "\tKey={\n",
    "\t\t'PartitionKey': 'experiment2',\n",
    "\t\t'RowKey': 'data2' \n",
    "\t}\n",
    ")\n",
    "item = response['Item'] \n",
    "print(item)"
   ]
  },
  {
   "cell_type": "code",
   "execution_count": 61,
   "id": "indoor-worker",
   "metadata": {},
   "outputs": [
    {
     "data": {
      "text/plain": [
       "{'Item': {'PartitionKey': 'experiment2',\n",
       "  'RowKey': 'data2',\n",
       "  'date': '2/20/21',\n",
       "  'description': 'exp2.csv',\n",
       "  'url': 'https://s3-us-east-2.amazonaws.com/datacont-datz/second experiment'},\n",
       " 'ResponseMetadata': {'RequestId': 'FF74S370ROSH2G0DMBJOQKIP3JVV4KQNSO5AEMVJF66Q9ASUAAJG',\n",
       "  'HTTPStatusCode': 200,\n",
       "  'HTTPHeaders': {'server': 'Server',\n",
       "   'date': 'Tue, 09 Mar 2021 22:20:41 GMT',\n",
       "   'content-type': 'application/x-amz-json-1.0',\n",
       "   'content-length': '203',\n",
       "   'connection': 'keep-alive',\n",
       "   'x-amzn-requestid': 'FF74S370ROSH2G0DMBJOQKIP3JVV4KQNSO5AEMVJF66Q9ASUAAJG',\n",
       "   'x-amz-crc32': '4059314535'},\n",
       "  'RetryAttempts': 0}}"
      ]
     },
     "execution_count": 61,
     "metadata": {},
     "output_type": "execute_result"
    }
   ],
   "source": [
    "response"
   ]
  },
  {
   "cell_type": "code",
   "execution_count": null,
   "id": "annual-tuition",
   "metadata": {},
   "outputs": [],
   "source": []
  }
 ],
 "metadata": {
  "kernelspec": {
   "display_name": "Python 3",
   "language": "python",
   "name": "python3"
  },
  "language_info": {
   "codemirror_mode": {
    "name": "ipython",
    "version": 3
   },
   "file_extension": ".py",
   "mimetype": "text/x-python",
   "name": "python",
   "nbconvert_exporter": "python",
   "pygments_lexer": "ipython3",
   "version": "3.8.8"
  }
 },
 "nbformat": 4,
 "nbformat_minor": 5
}
